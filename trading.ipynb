{
 "cells": [
  {
   "cell_type": "code",
   "execution_count": 2,
   "metadata": {},
   "outputs": [],
   "source": [
    "import numpy as np\n",
    "import pandas as pd\n",
    "import requests\n",
    "import math\n",
    "import json\n",
    "import statistics\n",
    "import pprint\n",
    "import scipy\n",
    "from datetime import datetime, timedelta\n",
    "import matplotlib.pyplot as plt\n",
    "import time\n",
    "from tqdm import tqdm\n",
    "from Secrets.wazirx_secrets import WAZIRX_API_KEY\n",
    "from Secrets.wazirx_secrets import WAZIRX_API_SECRET"
   ]
  },
  {
   "cell_type": "code",
   "execution_count": 7,
   "metadata": {},
   "outputs": [],
   "source": [
    "url = \"https://api.wazirx.com/sapi/v1/time\"\n",
    "\n",
    "response = requests.get(url=url).json()"
   ]
  },
  {
   "cell_type": "code",
   "execution_count": 21,
   "metadata": {},
   "outputs": [],
   "source": [
    "symbol = \"btcinr\"\n",
    "\n",
    "testUrl = f'https://api.wazirx.com/sapi/v1/klines?symbol={symbol}&limit=1&interval=1m'\n",
    "\n",
    "response2 = requests.get(testUrl).json()"
   ]
  },
  {
   "cell_type": "code",
   "execution_count": 22,
   "metadata": {},
   "outputs": [
    {
     "name": "stdout",
     "output_type": "stream",
     "text": [
      "[[1734969600, 5656600, 5656600, 5656600, 5656600, 0]]\n"
     ]
    }
   ],
   "source": [
    "print(response2)"
   ]
  }
 ],
 "metadata": {
  "kernelspec": {
   "display_name": "Python 3",
   "language": "python",
   "name": "python3"
  },
  "language_info": {
   "codemirror_mode": {
    "name": "ipython",
    "version": 3
   },
   "file_extension": ".py",
   "mimetype": "text/x-python",
   "name": "python",
   "nbconvert_exporter": "python",
   "pygments_lexer": "ipython3",
   "version": "3.11.3"
  }
 },
 "nbformat": 4,
 "nbformat_minor": 2
}
