{
 "cells": [
  {
   "cell_type": "code",
   "execution_count": 9,
   "metadata": {},
   "outputs": [],
   "source": [
    "import numpy as np\n",
    "import pandas as pd\n",
    "import requests\n",
    "import math\n",
    "import json\n",
    "import statistics\n",
    "import pprint\n",
    "import scipy\n",
    "from datetime import datetime, timedelta\n",
    "import matplotlib.pyplot as plt\n",
    "import time\n",
    "from tqdm import tqdm\n",
    "from Secrets.binance_secrets import BINANCE_API_KEY\n",
    "from Secrets.binance_secrets import BINANCE_SECRET\n",
    "from binance.client import Client"
   ]
  },
  {
   "cell_type": "code",
   "execution_count": 78,
   "metadata": {},
   "outputs": [
    {
     "name": "stdout",
     "output_type": "stream",
     "text": [
      "1736591415736\n",
      "1731407415736\n"
     ]
    }
   ],
   "source": [
    "st = datetime.now()\n",
    "et = st - timedelta(days=60)\n",
    "\n",
    "st = int(st.timestamp()*1000)\n",
    "et = int(et.timestamp()*1000)\n",
    "\n",
    "\n",
    "print(st)\n",
    "print(et)"
   ]
  },
  {
   "cell_type": "code",
   "execution_count": 10,
   "metadata": {},
   "outputs": [],
   "source": [
    "client = Client(BINANCE_API_KEY, BINANCE_SECRET)"
   ]
  },
  {
   "cell_type": "code",
   "execution_count": 14,
   "metadata": {},
   "outputs": [
    {
     "data": {
      "text/plain": [
       "{}"
      ]
     },
     "execution_count": 14,
     "metadata": {},
     "output_type": "execute_result"
    }
   ],
   "source": [
    "client.ping()"
   ]
  },
  {
   "cell_type": "code",
   "execution_count": 42,
   "metadata": {},
   "outputs": [],
   "source": [
    "open_in = 1\n",
    "high_in = 2\n",
    "low_in = 3\n",
    "close_in = 4\n",
    "\n",
    "symbols = [\"BTCUSDT\", \"SOLUSDT\", \"AVAXUSDT\", \"ETCUSDT\", \"ETHUSDT\", \"RUNEUSDT\", \"CHRUSDT\", \"DOGEUSDT\", \"EOSUSDT\", \"LTCUSDT\"]"
   ]
  },
  {
   "cell_type": "code",
   "execution_count": 81,
   "metadata": {},
   "outputs": [
    {
     "name": "stdout",
     "output_type": "stream",
     "text": [
      "60\n",
      "60\n",
      "60\n",
      "60\n",
      "60\n",
      "60\n",
      "60\n",
      "60\n",
      "60\n",
      "60\n"
     ]
    }
   ],
   "source": [
    "# candle = client.get_klines(symbol='ETCUSDT', interval=Client.KLINE_INTERVAL_1HOUR, limit=1)\n",
    "# print(candle[0][close_in])\n",
    "\n",
    "for i in symbols:\n",
    "    candle = client.get_klines(symbol=i, interval=Client.KLINE_INTERVAL_1DAY, startTime=et, endTime=st)\n",
    "    print(len(candle))"
   ]
  },
  {
   "cell_type": "code",
   "execution_count": 72,
   "metadata": {},
   "outputs": [
    {
     "name": "stdout",
     "output_type": "stream",
     "text": [
      "30\n"
     ]
    }
   ],
   "source": [
    "candles = client.get_historical_klines(symbol='BTCUSDT', interval=Client.KLINE_INTERVAL_1DAY, start_str=et, end_str=st)\n",
    "print(len(candles))"
   ]
  }
 ],
 "metadata": {
  "kernelspec": {
   "display_name": "Python 3",
   "language": "python",
   "name": "python3"
  },
  "language_info": {
   "codemirror_mode": {
    "name": "ipython",
    "version": 3
   },
   "file_extension": ".py",
   "mimetype": "text/x-python",
   "name": "python",
   "nbconvert_exporter": "python",
   "pygments_lexer": "ipython3",
   "version": "3.11.3"
  }
 },
 "nbformat": 4,
 "nbformat_minor": 2
}
