{
 "cells": [
  {
   "cell_type": "code",
   "execution_count": 1,
   "metadata": {},
   "outputs": [],
   "source": [
    "import numpy as np\n",
    "import pandas as pd\n",
    "import requests\n",
    "import math\n",
    "import json\n",
    "import statistics\n",
    "import pprint\n",
    "import scipy\n",
    "from datetime import datetime, timedelta\n",
    "import matplotlib.pyplot as plt\n",
    "import time\n",
    "from tqdm import tqdm\n",
    "from Secrets.binance_secrets import BINANCE_API_KEY\n",
    "from Secrets.binance_secrets import BINANCE_SECRET"
   ]
  },
  {
   "cell_type": "code",
   "execution_count": 21,
   "metadata": {},
   "outputs": [
    {
     "name": "stdout",
     "output_type": "stream",
     "text": [
      "1736531350.40454\n",
      "{'code': -1100, 'msg': \"Illegal characters found in parameter 'startTime'; legal range is '^[0-9]{1,20}$'.\"}\n"
     ]
    }
   ],
   "source": [
    "start = datetime.now()\n",
    "end = start - timedelta(days=30)\n",
    "\n",
    "startTime = start.timestamp()\n",
    "endTime = end.timestamp()\n",
    "\n",
    "print(startTime)\n",
    "\n",
    "base = f\"https://api.binance.com/api/v3/klines?symbol=BTCUSDT&interval=1s&startTime={startTime}&endTime={endTime}\"\n",
    "\n",
    "response = requests.get(base)\n",
    "\n",
    "data = response.json()\n",
    "\n",
    "\n",
    "print(data)"
   ]
  }
 ],
 "metadata": {
  "kernelspec": {
   "display_name": "Python 3",
   "language": "python",
   "name": "python3"
  },
  "language_info": {
   "codemirror_mode": {
    "name": "ipython",
    "version": 3
   },
   "file_extension": ".py",
   "mimetype": "text/x-python",
   "name": "python",
   "nbconvert_exporter": "python",
   "pygments_lexer": "ipython3",
   "version": "3.11.3"
  }
 },
 "nbformat": 4,
 "nbformat_minor": 2
}
